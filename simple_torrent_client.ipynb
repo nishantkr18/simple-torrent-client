{
 "cells": [
  {
   "cell_type": "markdown",
   "id": "24598cbf-5ca1-426d-aa8b-7625e5c371d3",
   "metadata": {},
   "source": [
    "## Resources:\n",
    "- kristenwidman's blog: http://www.kristenwidman.com/blog/33/how-to-write-a-bittorrent-client-part-1/\n",
    "- BitTorrentSpecification: https://wiki.theory.org/BitTorrentSpecification\n",
    "- Pytorrent: https://github.com/gallexis/pytorrent\n",
    "- Lita’s bittorrent: https://github.com/lita/bittorrent"
   ]
  },
  {
   "cell_type": "markdown",
   "id": "db65bab2-65b5-49a9-8984-78fa970d56a9",
   "metadata": {},
   "source": [
    "## Major imports:\n",
    "- `bcoding`: library used for converting data to and from bencode. Bencode is a type of encoding used by torrents.\n",
    "- `hashlib`: used for sha1 hashing used in torrenting.\n",
    "- `tqdm`: to show the progress of a loop\n",
    "- `socket`: A way of connecting two nodes on a network (used to send data to and from, in peers)\n",
    "- `struct`: Using `pack` and `unpack` methods to convert bytes to integer and vice versa. \n",
    "- `requests`: Sending http and udp requests to trackers for peer information."
   ]
  },
  {
   "cell_type": "code",
   "execution_count": 1,
   "id": "1957efe7-60b7-483b-a4c8-e2b499b0c8aa",
   "metadata": {},
   "outputs": [],
   "source": [
    "from bcoding import bdecode, bencode\n",
    "import hashlib\n",
    "from tqdm import tqdm\n",
    "import socket\n",
    "import struct\n",
    "import requests"
   ]
  },
  {
   "cell_type": "markdown",
   "id": "a33d1b2d-ae7a-43e1-83bf-08013fa3ce0c",
   "metadata": {},
   "source": [
    "## Read from torrent file:"
   ]
  },
  {
   "cell_type": "code",
   "execution_count": 2,
   "id": "944137d8-7cfb-462b-8a51-e64e429c1acc",
   "metadata": {
    "tags": []
   },
   "outputs": [],
   "source": [
    "# reading buffer from torrent file\n",
    "buffer = open('file.torrent', 'rb').read()\n",
    "\n",
    "# Decoding the bencode encoded binary data.\n",
    "torrent = bdecode(buffer)"
   ]
  },
  {
   "cell_type": "code",
   "execution_count": 8,
   "id": "162b6e30",
   "metadata": {},
   "outputs": [
    {
     "data": {
      "text/plain": [
       "dict_keys(['announce', 'announce-list', 'comment', 'created by', 'creation date', 'info'])"
      ]
     },
     "execution_count": 8,
     "metadata": {},
     "output_type": "execute_result"
    }
   ],
   "source": [
    "# The torrent is a dictionary with the following keys.\n",
    "torrent.keys()"
   ]
  },
  {
   "cell_type": "code",
   "execution_count": 4,
   "id": "70b70db1-de0c-4486-b53f-3d39a66d4702",
   "metadata": {},
   "outputs": [
    {
     "name": "stdout",
     "output_type": "stream",
     "text": [
      "Total trackers: 3\n",
      "['https://torrent.ubuntu.com/announce', 'https://ipv6.torrent.ubuntu.com/announce', 'https://torrent.ubuntu.com/announce']\n"
     ]
    }
   ],
   "source": [
    "## Getting a list of trackers to connect to.\n",
    "\n",
    "# The torrent information contained in the torrrent file \n",
    "# has a list of ip addresses of the trackers available.\n",
    "# This list is referred to as the announce-list.\n",
    "# The first element of the list if present in the value of the 'announce' key.\n",
    "\n",
    "announce_list = []\n",
    "if 'announce-list' in torrent.keys():\n",
    "    [announce_list.extend(tracker_list) for tracker_list in torrent['announce-list']]\n",
    "if 'announce' in torrent.keys():\n",
    "    announce_list.append(torrent['announce'])\n",
    "\n",
    "print(f'Total trackers: {len(announce_list)}')\n",
    "print(announce_list)"
   ]
  },
  {
   "cell_type": "code",
   "execution_count": 9,
   "id": "04862b32",
   "metadata": {},
   "outputs": [
    {
     "data": {
      "text/plain": [
       "dict_keys(['length', 'name', 'piece length', 'pieces'])"
      ]
     },
     "execution_count": 9,
     "metadata": {},
     "output_type": "execute_result"
    }
   ],
   "source": [
    "torrent['info'].keys()"
   ]
  },
  {
   "cell_type": "markdown",
   "id": "3ba748c5-0d93-42a9-ade4-8eadd4e2d73e",
   "metadata": {},
   "source": [
    "## Connecting to a tracker.\n",
    "To connect to the tracker, we need to send the following info as an http get request:\n",
    "- `info_hash`: the sha1 hash of the info dict in the torrent.\n",
    "- `peer_id`: 20-byte string used as a unique ID for the client. \n",
    "- `left`: The number of bytes this client still has to download in base ten ASCII.\n",
    "- `port`: The port number that the client is listening on."
   ]
  },
  {
   "cell_type": "code",
   "execution_count": 29,
   "id": "8c442d3c-1aa2-4349-8cf5-15ff676faede",
   "metadata": {},
   "outputs": [
    {
     "name": "stdout",
     "output_type": "stream",
     "text": [
      "Total length of files to be downloaded in MB: 3649.55078125\n"
     ]
    }
   ],
   "source": [
    "info_hash = hashlib.sha1(bencode(torrent['info'])).digest()\n",
    "peer_id = hashlib.sha1('nishantkr'.encode()).digest()\n",
    "\n",
    "# Calculating the total number of bytes to download.\n",
    "if 'length' in torrent['info'].keys():\n",
    "    # Single file mode.\n",
    "    total_length = torrent['info']['length']\n",
    "else:\n",
    "    # Multi file mode.\n",
    "    total_length = sum([ x['length'] for x in torrent['info']['files'] ])\n",
    "\n",
    "print(f'Total length of files to be downloaded in MB: {total_length/1024/1024}')\n",
    "\n",
    "def request_http(tracker:str):\n",
    "    '''\n",
    "    Function that accepts tracker url, and returns the response.\n",
    "    '''\n",
    "    print(tracker)\n",
    "    try:\n",
    "        response = requests.get(tracker, params={\n",
    "            'info_hash': info_hash,\n",
    "            'peer_id': peer_id,\n",
    "            'left': total_length,\n",
    "            'uploaded': 0,\n",
    "            'downloaded': 0,\n",
    "            'port': 6881\n",
    "        }, timeout=2,\n",
    "        verify=False)\n",
    "        response = bdecode(response.content)\n",
    "        return response\n",
    "    except Exception as e:\n",
    "        print(e.__str__())\n",
    "        return None"
   ]
  },
  {
   "cell_type": "code",
   "execution_count": 30,
   "id": "72222e63-7e7b-4ebc-b031-473049782b4c",
   "metadata": {},
   "outputs": [
    {
     "name": "stderr",
     "output_type": "stream",
     "text": [
      "  0%|          | 0/3 [00:00<?, ?it/s]"
     ]
    },
    {
     "name": "stdout",
     "output_type": "stream",
     "text": [
      "https://torrent.ubuntu.com/announce\n"
     ]
    },
    {
     "name": "stderr",
     "output_type": "stream",
     "text": [
      "  0%|          | 0/3 [00:01<?, ?it/s]"
     ]
    },
    {
     "name": "stdout",
     "output_type": "stream",
     "text": [
      "Connected to tracker: https://torrent.ubuntu.com/announce\n"
     ]
    },
    {
     "name": "stderr",
     "output_type": "stream",
     "text": [
      "\n"
     ]
    }
   ],
   "source": [
    "# For now, we will only tackle plain http trackers.\n",
    "response = None\n",
    "for tracker in tqdm(announce_list):\n",
    "    if tracker.startswith('http'):\n",
    "        response = request_http(tracker)\n",
    "    elif tracker.startswith('udp'):\n",
    "        print('udp requests not parsing')\n",
    "    else:\n",
    "        print(\"{} Unknown protocol\".format(tracker))\n",
    "\n",
    "    if response is not None and 'complete' in response.keys():\n",
    "        if response['complete'] > 0:\n",
    "            print(\"Connected to tracker: {}\".format(tracker))\n",
    "            break\n",
    "        else:\n",
    "            print(\"Tracker does not contain a complete peer\")"
   ]
  },
  {
   "cell_type": "code",
   "execution_count": 34,
   "id": "6fbb531c-b0a2-49a5-82cc-625cd4103e10",
   "metadata": {
    "tags": []
   },
   "outputs": [
    {
     "data": {
      "text/plain": [
       "{'complete': 2180,\n",
       " 'incomplete': 44,\n",
       " 'interval': 1800,\n",
       " 'peers': [{'ip': '2607:5300:60:623::1',\n",
       "   'peer id': '-TR2940-ghf4ow7e211b',\n",
       "   'port': 51413},\n",
       "  {'ip': '2a01:480:2000:11::12',\n",
       "   'peer id': '-TR2940-7o53jr2e33w5',\n",
       "   'port': 51413},\n",
       "  {'ip': '2607:5300:60:623::1',\n",
       "   'peer id': '-TR2940-2wzyoqgc8nlj',\n",
       "   'port': 51413},\n",
       "  {'ip': '2602:fdb8:131:2001::4:1',\n",
       "   'peer id': b'-lt0D80-]u\\x06\\xf1\\xdb\\x915\\x8e\\x1cq43',\n",
       "   'port': 61036},\n",
       "  {'ip': '2a09:be40:3104:10::1',\n",
       "   'peer id': b'-lt0D70-\\r\\x8aLd>\\xf9\\n\\xa7\\x16oH\\xa9',\n",
       "   'port': 11530},\n",
       "  {'ip': '2a02:8108:9bbf:e9f4:1a31:bfff:fe53:ef5f',\n",
       "   'peer id': '-TR3000-mw7imq9shk3c',\n",
       "   'port': 51413},\n",
       "  {'ip': '2405:9800:b902:7f85:4009:7885:1327:e0d3',\n",
       "   'peer id': '-TR400Z-98n9wvt10sdx',\n",
       "   'port': 55538},\n",
       "  {'ip': '2a0a:e340:1001:400::2:1',\n",
       "   'peer id': b'-lt0D80-I\\xedPTR\\x0f\\xe3\\xc4\\x81\\x04k\\x06',\n",
       "   'port': 57803},\n",
       "  {'ip': '2a0a:51c0:0:18d::22',\n",
       "   'peer id': '-TR300Z-ywge309tinas',\n",
       "   'port': 62304},\n",
       "  {'ip': '2405:9800:b902:7f85:f5ca:ff2d:d388:12d',\n",
       "   'peer id': '-TR400Z-to8t235zsk2v',\n",
       "   'port': 52873},\n",
       "  {'ip': '2806:2f0:7081:fcc1:88b9:1f55:7048:49ea',\n",
       "   'peer id': '-TR2940-udjpc62d8zot',\n",
       "   'port': 51413},\n",
       "  {'ip': '2a02:168:f405::70',\n",
       "   'peer id': '-TR3000-hd0oyza268wz',\n",
       "   'port': 51414},\n",
       "  {'ip': '2604:3d08:7f7d:700:203:dd15:bf25:9bd8',\n",
       "   'peer id': '-TR3000-5qzu28jpbruy',\n",
       "   'port': 51413},\n",
       "  {'ip': '2001:470:1f0b:3da:3d71:4b37:399d:c494',\n",
       "   'peer id': '-TR3000-012n2e9mi1lv',\n",
       "   'port': 51413},\n",
       "  {'ip': '2409:8a14:c222:950:211:32ff:fec9:c076',\n",
       "   'peer id': '-TR2930-likrjo0zsp7s',\n",
       "   'port': 16881},\n",
       "  {'ip': '2001:41d0:602:3361::',\n",
       "   'peer id': '-TR3000-tru41fyuq3g1',\n",
       "   'port': 51413},\n",
       "  {'ip': '2600:1700:6681:2160:5c55:6a45:1c50:b5ed',\n",
       "   'peer id': '-TR400B-ozfejsb8ue99',\n",
       "   'port': 51413},\n",
       "  {'ip': '2601:601:200:813:a8a1:59ff:fea0:13fe',\n",
       "   'peer id': '-TR3000-4w3ofxqs1hdk',\n",
       "   'port': 6881},\n",
       "  {'ip': '2001:470:7a83:6f74:0:7069:7261:7465',\n",
       "   'peer id': '-TR3000-5kefsddsed6b',\n",
       "   'port': 6979},\n",
       "  {'ip': '2a01:c22:b021:f000:7cc2:b978:7903:92bc',\n",
       "   'peer id': '-TR3000-iurnxuzfh14j',\n",
       "   'port': 51413},\n",
       "  {'ip': '2001:b07:646a:78a:3a38:bee1:4d00:82de',\n",
       "   'peer id': '-TR3000-a3lnq0xu3wmd',\n",
       "   'port': 3150},\n",
       "  {'ip': '2001:470:1f11:5a5::dead:beef',\n",
       "   'peer id': '-TR400Z-mtwq6l41nyg2',\n",
       "   'port': 48001},\n",
       "  {'ip': '185.125.190.59', 'peer id': 'T03I--00OuEKUAaVIHao', 'port': 6948},\n",
       "  {'ip': '2001:470:dd8a::2', 'peer id': '-TR3000-1pox1fewtnc7', 'port': 64010},\n",
       "  {'ip': '2a02:8084:69a4:1d80:6bc7:863a:4ce8:6bf4',\n",
       "   'peer id': '-TR3000-n7nifk5xgl8r',\n",
       "   'port': 51413},\n",
       "  {'ip': '2001:470:1f11:5a5::dead:beef',\n",
       "   'peer id': '-TR400Z-b7151qj0wg3n',\n",
       "   'port': 48001},\n",
       "  {'ip': '2a02:c206:3008:6973::1',\n",
       "   'peer id': '-TR3000-orar1cychgs8',\n",
       "   'port': 51413},\n",
       "  {'ip': '2001:4ba0:cafe:4a0::1',\n",
       "   'peer id': '-TR2940-ogtikfluzadl',\n",
       "   'port': 51413},\n",
       "  {'ip': '2408:8207:2538:a550:852b:d766:8342:3c72',\n",
       "   'peer id': '-TR400B-1jal4cwx2l0p',\n",
       "   'port': 29901},\n",
       "  {'ip': '2a01:e0a:3c4:6c10:c552:1465:c80f:4b4d',\n",
       "   'peer id': '-TR3000-2srimydsvqe9',\n",
       "   'port': 51413},\n",
       "  {'ip': '2401:4900:1cc9:afa1:b9e3:7545:64ba:deba',\n",
       "   'peer id': '-TR2940-z7ldq0pa3gpz',\n",
       "   'port': 51413},\n",
       "  {'ip': '2a01:e0a:591:6f10:aa28:2ef9:f58:9e56',\n",
       "   'peer id': '-TR3000-wwsfu8ghehet',\n",
       "   'port': 51413},\n",
       "  {'ip': '2001:4128:6135:e001:5054:ff:fec6:21ea',\n",
       "   'peer id': b'-lt0D80-\\x17y\\n\\xbaX\\x84\\x8fW{\\x82\\x18\\xd9',\n",
       "   'port': 6935},\n",
       "  {'ip': '2408:8207:253c:25b0:840e:8ba4:e647:52f0',\n",
       "   'peer id': '-TR400B-xabw60qfnlv8',\n",
       "   'port': 29901},\n",
       "  {'ip': '2a02:2b80:101:104::699',\n",
       "   'peer id': '-TR400Z-5ud9kl6stbgs',\n",
       "   'port': 51413},\n",
       "  {'ip': '2400:d803:7907:eaee:5054:ff:fe83:5969',\n",
       "   'peer id': '-TR2940-zn0dz5v4hllb',\n",
       "   'port': 51413},\n",
       "  {'ip': '2408:8207:253c:25b0:bdc9:24dc:7c01:4483',\n",
       "   'peer id': '-TR400B-nf524v8tdw6c',\n",
       "   'port': 29901},\n",
       "  {'ip': '2001:8b0:a790:604a:ca60:ff:fe86:cf14',\n",
       "   'peer id': '-TR3000-p4qrvce0shie',\n",
       "   'port': 51413},\n",
       "  {'ip': '2001:41d0:e:907::1',\n",
       "   'peer id': b\"-lt0D80-n\\xfc\\xa5\\xc4\\xe0\\xf5\\x85\\x94\\x03\\x8d\\xea'\",\n",
       "   'port': 12364},\n",
       "  {'ip': '2a01:4f8:141:5192::2',\n",
       "   'peer id': '-TR2940-vz2vd8sw0w13',\n",
       "   'port': 58250},\n",
       "  {'ip': '2a02:1210:4831:9700:ba27:ebff:fe91:60cd',\n",
       "   'peer id': '-TR2940-5hh4o1mz1z9a',\n",
       "   'port': 51316},\n",
       "  {'ip': '2001:470:1f11:5a5::dead:beef',\n",
       "   'peer id': '-TR400Z-ut56up3b6v13',\n",
       "   'port': 48001},\n",
       "  {'ip': '2a01:4ff:f0:a583::1',\n",
       "   'peer id': b'-lt0D80-0\\xfb9V\\x1b\\xc8\\xa7UU\\x16\\xabV',\n",
       "   'port': 49164},\n",
       "  {'ip': '2001:41d0:8:d7a4::1',\n",
       "   'peer id': '-TR3000-p8xr9c5h4r49',\n",
       "   'port': 51413},\n",
       "  {'ip': '2806:2f0:7081:fcc1:b161:f102:291f:de7f',\n",
       "   'peer id': '-TR2940-1qy852ide8f0',\n",
       "   'port': 51413},\n",
       "  {'ip': '2409:4041:2e8b:6e78:f602:f6e6:685f:7fdd',\n",
       "   'peer id': '-TR3000-f2yh14j324y9',\n",
       "   'port': 51413},\n",
       "  {'ip': '2409:8a62:e76:5a51::db9',\n",
       "   'peer id': '-TR2930-hom22ktcdka9',\n",
       "   'port': 16881},\n",
       "  {'ip': '2409:8a14:c217:3c0:211:32ff:fec9:c076',\n",
       "   'peer id': '-TR2930-o09uxl1b1av9',\n",
       "   'port': 16881},\n",
       "  {'ip': '2806:106e:1c:2a87:c363:2b71:ab9d:c92f',\n",
       "   'peer id': '-TR3000-k100li7ooens',\n",
       "   'port': 51413},\n",
       "  {'ip': '2001:4455:24b:ac00:8664:6219:1ed6:7bbc',\n",
       "   'peer id': '-TR3000-fd9thvwe3os1',\n",
       "   'port': 51413}]}"
      ]
     },
     "execution_count": 34,
     "metadata": {},
     "output_type": "execute_result"
    }
   ],
   "source": [
    "response"
   ]
  },
  {
   "cell_type": "code",
   "execution_count": 38,
   "id": "6f5db7f1-9d61-412a-9d9d-ce3d492bb388",
   "metadata": {},
   "outputs": [
    {
     "data": {
      "text/plain": [
       "[('2607:5300:60:623::1', 51413),\n",
       " ('2a01:480:2000:11::12', 51413),\n",
       " ('2607:5300:60:623::1', 51413),\n",
       " ('2602:fdb8:131:2001::4:1', 61036),\n",
       " ('2a09:be40:3104:10::1', 11530),\n",
       " ('2a02:8108:9bbf:e9f4:1a31:bfff:fe53:ef5f', 51413),\n",
       " ('2405:9800:b902:7f85:4009:7885:1327:e0d3', 55538),\n",
       " ('2a0a:e340:1001:400::2:1', 57803),\n",
       " ('2a0a:51c0:0:18d::22', 62304),\n",
       " ('2405:9800:b902:7f85:f5ca:ff2d:d388:12d', 52873),\n",
       " ('2806:2f0:7081:fcc1:88b9:1f55:7048:49ea', 51413),\n",
       " ('2a02:168:f405::70', 51414),\n",
       " ('2604:3d08:7f7d:700:203:dd15:bf25:9bd8', 51413),\n",
       " ('2001:470:1f0b:3da:3d71:4b37:399d:c494', 51413),\n",
       " ('2409:8a14:c222:950:211:32ff:fec9:c076', 16881),\n",
       " ('2001:41d0:602:3361::', 51413),\n",
       " ('2600:1700:6681:2160:5c55:6a45:1c50:b5ed', 51413),\n",
       " ('2601:601:200:813:a8a1:59ff:fea0:13fe', 6881),\n",
       " ('2001:470:7a83:6f74:0:7069:7261:7465', 6979),\n",
       " ('2a01:c22:b021:f000:7cc2:b978:7903:92bc', 51413),\n",
       " ('2001:b07:646a:78a:3a38:bee1:4d00:82de', 3150),\n",
       " ('2001:470:1f11:5a5::dead:beef', 48001),\n",
       " ('185.125.190.59', 6948),\n",
       " ('2001:470:dd8a::2', 64010),\n",
       " ('2a02:8084:69a4:1d80:6bc7:863a:4ce8:6bf4', 51413),\n",
       " ('2001:470:1f11:5a5::dead:beef', 48001),\n",
       " ('2a02:c206:3008:6973::1', 51413),\n",
       " ('2001:4ba0:cafe:4a0::1', 51413),\n",
       " ('2408:8207:2538:a550:852b:d766:8342:3c72', 29901),\n",
       " ('2a01:e0a:3c4:6c10:c552:1465:c80f:4b4d', 51413),\n",
       " ('2401:4900:1cc9:afa1:b9e3:7545:64ba:deba', 51413),\n",
       " ('2a01:e0a:591:6f10:aa28:2ef9:f58:9e56', 51413),\n",
       " ('2001:4128:6135:e001:5054:ff:fec6:21ea', 6935),\n",
       " ('2408:8207:253c:25b0:840e:8ba4:e647:52f0', 29901),\n",
       " ('2a02:2b80:101:104::699', 51413),\n",
       " ('2400:d803:7907:eaee:5054:ff:fe83:5969', 51413),\n",
       " ('2408:8207:253c:25b0:bdc9:24dc:7c01:4483', 29901),\n",
       " ('2001:8b0:a790:604a:ca60:ff:fe86:cf14', 51413),\n",
       " ('2001:41d0:e:907::1', 12364),\n",
       " ('2a01:4f8:141:5192::2', 58250),\n",
       " ('2a02:1210:4831:9700:ba27:ebff:fe91:60cd', 51316),\n",
       " ('2001:470:1f11:5a5::dead:beef', 48001),\n",
       " ('2a01:4ff:f0:a583::1', 49164),\n",
       " ('2001:41d0:8:d7a4::1', 51413),\n",
       " ('2806:2f0:7081:fcc1:b161:f102:291f:de7f', 51413),\n",
       " ('2409:4041:2e8b:6e78:f602:f6e6:685f:7fdd', 51413),\n",
       " ('2409:8a62:e76:5a51::db9', 16881),\n",
       " ('2409:8a14:c217:3c0:211:32ff:fec9:c076', 16881),\n",
       " ('2806:106e:1c:2a87:c363:2b71:ab9d:c92f', 51413),\n",
       " ('2001:4455:24b:ac00:8664:6219:1ed6:7bbc', 51413)]"
      ]
     },
     "execution_count": 38,
     "metadata": {},
     "output_type": "execute_result"
    }
   ],
   "source": [
    "# Peers can have two kinds of response: (see here: https://wiki.theory.org/BitTorrentSpecification#Tracker_Response)\n",
    "\n",
    "peer_list = []\n",
    "if type(response['peers']) is not list:\n",
    "    # binary model\n",
    "    offset = 0\n",
    "    address = response['peers']\n",
    "\n",
    "    for _ in range(len(address)//6):\n",
    "        ip = address[offset:offset+4]\n",
    "        ip = socket.inet_ntoa(ip)\n",
    "        offset+=4\n",
    "        port = address[offset:offset+2]\n",
    "        port = struct.unpack('!H', port)[0]\n",
    "        offset+=2\n",
    "        peer_list.append((ip, port))\n",
    "\n",
    "else:\n",
    "    # dictionary model.\n",
    "    for peer in response['peers']:\n",
    "        peer_list.append((peer['ip'], peer['port']))\n",
    "\n",
    "peer_list"
   ]
  },
  {
   "cell_type": "code",
   "execution_count": 36,
   "id": "7a6e1611",
   "metadata": {},
   "outputs": [
    {
     "data": {
      "text/plain": [
       "list"
      ]
     },
     "execution_count": 36,
     "metadata": {},
     "output_type": "execute_result"
    }
   ],
   "source": [
    "type(response['peers'])"
   ]
  },
  {
   "cell_type": "code",
   "execution_count": 44,
   "id": "7d9e5073-6cb8-4b69-b61f-a053b398c225",
   "metadata": {},
   "outputs": [
    {
     "name": "stderr",
     "output_type": "stream",
     "text": [
      " 16%|█▌        | 8/50 [00:00<00:00, 76.89it/s]"
     ]
    },
    {
     "name": "stdout",
     "output_type": "stream",
     "text": [
      "[WinError 10051] A socket operation was attempted to an unreachable network\n",
      "[WinError 10051] A socket operation was attempted to an unreachable network\n",
      "[WinError 10051] A socket operation was attempted to an unreachable network\n",
      "[WinError 10051] A socket operation was attempted to an unreachable network\n",
      "[WinError 10051] A socket operation was attempted to an unreachable network\n",
      "[WinError 10051] A socket operation was attempted to an unreachable network\n",
      "[WinError 10051] A socket operation was attempted to an unreachable network\n",
      "[WinError 10051] A socket operation was attempted to an unreachable network\n",
      "[WinError 10051] A socket operation was attempted to an unreachable network\n",
      "[WinError 10051] A socket operation was attempted to an unreachable network\n",
      "[WinError 10051] A socket operation was attempted to an unreachable network\n",
      "[WinError 10051] A socket operation was attempted to an unreachable network\n",
      "[WinError 10051] A socket operation was attempted to an unreachable network\n",
      "[WinError 10051] A socket operation was attempted to an unreachable network\n",
      "[WinError 10051] A socket operation was attempted to an unreachable network\n"
     ]
    },
    {
     "name": "stderr",
     "output_type": "stream",
     "text": [
      " 38%|███▊      | 19/50 [00:00<00:00, 90.43it/s]"
     ]
    },
    {
     "name": "stdout",
     "output_type": "stream",
     "text": [
      "[WinError 10051] A socket operation was attempted to an unreachable network\n",
      "[WinError 10051] A socket operation was attempted to an unreachable network\n",
      "[WinError 10051] A socket operation was attempted to an unreachable network\n",
      "[WinError 10051] A socket operation was attempted to an unreachable network\n",
      "[WinError 10051] A socket operation was attempted to an unreachable network\n",
      "[WinError 10051] A socket operation was attempted to an unreachable network\n",
      "[WinError 10051] A socket operation was attempted to an unreachable network\n"
     ]
    },
    {
     "name": "stderr",
     "output_type": "stream",
     "text": [
      " 44%|████▍     | 22/50 [00:00<00:00, 42.72it/s]"
     ]
    },
    {
     "name": "stdout",
     "output_type": "stream",
     "text": [
      "Connection established with ('185.125.190.59', 6948)\n"
     ]
    },
    {
     "name": "stderr",
     "output_type": "stream",
     "text": [
      "\n"
     ]
    }
   ],
   "source": [
    "for peer in tqdm(peer_list):\n",
    "    try:\n",
    "        s = socket.create_connection(peer, timeout = 2)\n",
    "        print(f'Connection established with {peer}')\n",
    "        \n",
    "        break\n",
    "    except Exception as e:\n",
    "        print(e.__str__())\n",
    "        pass"
   ]
  },
  {
   "cell_type": "code",
   "execution_count": 45,
   "id": "4e3ac543-edd0-4674-a89e-b48ebebd43c7",
   "metadata": {},
   "outputs": [],
   "source": [
    "#<pstrlen><pstr><reserved><info_hash><peer_id>\n",
    "PSTR = 'BitTorrent protocol'\n",
    "reserved = '\\x00\\x00\\x00\\x00\\x00\\x00\\x00\\x00'\n",
    "\n",
    "handshake_message = '\\x13'.encode()+PSTR.encode()+reserved.encode()\n",
    "info_hash_index = len(handshake_message)\n",
    "# handshake_message += peer_id+peer_id\n",
    "handshake_message += info_hash+peer_id"
   ]
  },
  {
   "cell_type": "code",
   "execution_count": 46,
   "id": "f96d0fdf-7c85-4589-9155-7e77660338a9",
   "metadata": {},
   "outputs": [
    {
     "data": {
      "text/plain": [
       "68"
      ]
     },
     "execution_count": 46,
     "metadata": {},
     "output_type": "execute_result"
    }
   ],
   "source": [
    "s.send(handshake_message)"
   ]
  },
  {
   "cell_type": "code",
   "execution_count": 59,
   "id": "94972308-1184-49d2-a6d0-887c66ee3433",
   "metadata": {},
   "outputs": [
    {
     "name": "stdout",
     "output_type": "stream",
     "text": [
      "[WinError 10053] An established connection was aborted by the software in your host machine\n"
     ]
    },
    {
     "data": {
      "text/plain": [
       "b''"
      ]
     },
     "execution_count": 59,
     "metadata": {},
     "output_type": "execute_result"
    }
   ],
   "source": [
    "full_data = b''\n",
    "while True:\n",
    "    try:\n",
    "        data = s.recv(1024)\n",
    "    except Exception as e:\n",
    "        print(e.__str__())\n",
    "        break\n",
    "    if not data:\n",
    "        print('no data')\n",
    "        break\n",
    "    full_data += data\n",
    "full_data"
   ]
  },
  {
   "cell_type": "code",
   "execution_count": 48,
   "id": "59f070df-4bad-4de8-8d31-2d00df37f66c",
   "metadata": {},
   "outputs": [
    {
     "data": {
      "text/plain": [
       "True"
      ]
     },
     "execution_count": 48,
     "metadata": {},
     "output_type": "execute_result"
    }
   ],
   "source": [
    "# Checking if info_hash received matches the sent info_hash. \n",
    "full_data[info_hash_index:info_hash_index+20] == info_hash"
   ]
  },
  {
   "cell_type": "code",
   "execution_count": 49,
   "id": "461602a4-0e80-4986-a5d5-0806483c4268",
   "metadata": {},
   "outputs": [],
   "source": [
    "next_msg = full_data[len(handshake_message):]"
   ]
  },
  {
   "cell_type": "code",
   "execution_count": 50,
   "id": "a0fe9371",
   "metadata": {},
   "outputs": [
    {
     "data": {
      "text/plain": [
       "b'\\x00\\x00\\x00\\x01\\x01\\x00\\x00\\x00\\x05\\x04\\x00\\x00\\x13\\x03'"
      ]
     },
     "execution_count": 50,
     "metadata": {},
     "output_type": "execute_result"
    }
   ],
   "source": [
    "next_msg"
   ]
  },
  {
   "cell_type": "code",
   "execution_count": 60,
   "id": "48824143-09b3-4f32-8160-a355358a0dbd",
   "metadata": {},
   "outputs": [
    {
     "name": "stdout",
     "output_type": "stream",
     "text": [
      "Message Length: 1, Message ID: 1\n"
     ]
    }
   ],
   "source": [
    "# Function to decode message:\n",
    "def decode_message(msg):\n",
    "    msg_length = struct.unpack('!L', next_msg[:4])[0]\n",
    "    msg_id = next_msg[4]\n",
    "    print(f'Message Length: {msg_length}, Message ID: {msg_id}')\n",
    "\n",
    "decode_message(next_msg)"
   ]
  },
  {
   "cell_type": "code",
   "execution_count": 58,
   "id": "b0f86111-c532-435f-9881-c471c92051c3",
   "metadata": {},
   "outputs": [
    {
     "data": {
      "text/plain": [
       "5"
      ]
     },
     "execution_count": 58,
     "metadata": {},
     "output_type": "execute_result"
    }
   ],
   "source": [
    "# Interested\n",
    "s.send(b'\\x00\\x00\\x00\\x01\\x02')"
   ]
  },
  {
   "cell_type": "code",
   "execution_count": 119,
   "id": "40e1b932-a421-4440-af1a-0f9fdef6dc34",
   "metadata": {},
   "outputs": [
    {
     "data": {
      "text/plain": [
       "4"
      ]
     },
     "execution_count": 119,
     "metadata": {},
     "output_type": "execute_result"
    }
   ],
   "source": [
    "# Keep-alive\n",
    "s.send(b'\\x00'*4)"
   ]
  },
  {
   "cell_type": "code",
   "execution_count": 131,
   "id": "20a94379-5c45-49e3-b50d-2c1272863ea8",
   "metadata": {},
   "outputs": [
    {
     "data": {
      "text/plain": [
       "5"
      ]
     },
     "execution_count": 131,
     "metadata": {},
     "output_type": "execute_result"
    }
   ],
   "source": [
    "s.send(struct.pack('!iB', 1, 2))"
   ]
  },
  {
   "cell_type": "code",
   "execution_count": 770,
   "id": "8b264406-156c-4a28-af16-946dfe75b543",
   "metadata": {},
   "outputs": [
    {
     "data": {
      "text/plain": [
       "b'\\x00\\x00\\x00\\x01\\x02'"
      ]
     },
     "execution_count": 770,
     "metadata": {},
     "output_type": "execute_result"
    }
   ],
   "source": [
    "struct.pack('!iB', 1, 2)"
   ]
  }
 ],
 "metadata": {
  "kernelspec": {
   "display_name": "base",
   "language": "python",
   "name": "python3"
  },
  "language_info": {
   "codemirror_mode": {
    "name": "ipython",
    "version": 3
   },
   "file_extension": ".py",
   "mimetype": "text/x-python",
   "name": "python",
   "nbconvert_exporter": "python",
   "pygments_lexer": "ipython3",
   "version": "3.8.8"
  },
  "vscode": {
   "interpreter": {
    "hash": "4f6fc57baeeb065a0114c60e5eda2507e833be05a48befa7c36c56a8d7db0b34"
   }
  }
 },
 "nbformat": 4,
 "nbformat_minor": 5
}
